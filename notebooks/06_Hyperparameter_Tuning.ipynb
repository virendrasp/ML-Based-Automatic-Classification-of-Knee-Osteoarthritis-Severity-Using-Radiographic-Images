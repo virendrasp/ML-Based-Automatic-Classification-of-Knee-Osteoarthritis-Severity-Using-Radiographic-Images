{
 "cells": [
  {
   "cell_type": "code",
   "execution_count": null,
   "metadata": {},
   "outputs": [],
   "source": [
    "# 06_Hyperparameter_Tuning.ipynb\n",
    "\n",
    "# Introduction \n",
    "# This notebook will focus on hyperparameter tuning to improve the performance of the models\n",
    "\n",
    "# Importing Libraries\n",
    "import numpy as np\n",
    "from sklearn.model_selection import GridSearchCV, RandomizedSearchCV\n",
    "from sklearn.ensemble import RandomForestClassifier\n",
    "\n",
    "# Hyperparameter Grid Search\n",
    "param_grid = {\n",
    "    'n_estimators': [100, 200, 300],\n",
    "    'max_depth': [None, 10, 20, 30],\n",
    "    'min_samples_split': [2, 5, 10],\n",
    "}\n",
    "grid_search = GridSearchCV(estimator=RandomForestClassifier(), param_grid=param_grid, cv=5, verbose=2, n_jobs=-1)\n",
    "grid_search.fit(X_train, y_train)\n",
    "\n",
    "# Cross-Validation\n",
    "best_model = grid_search.best_estimator_\n",
    "cv_results = cross_val_score(best_model, X_train, y_train, cv=5)\n",
    "\n",
    "# Evaluating the Best Models\n",
    "y_pred_best = best_model.predict(X_test)\n",
    "best_accuracy = accuracy_score(y_test, y_pred_best)"
   ]
  }
 ],
 "metadata": {
  "language_info": {
   "name": "python"
  }
 },
 "nbformat": 4,
 "nbformat_minor": 2
}
