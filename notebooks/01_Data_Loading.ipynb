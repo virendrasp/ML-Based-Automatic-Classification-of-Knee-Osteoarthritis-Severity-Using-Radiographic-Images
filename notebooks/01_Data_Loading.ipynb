{
 "cells": [
  {
   "cell_type": "code",
   "execution_count": null,
   "metadata": {},
   "outputs": [],
   "source": [
    "# 01_Data_Loading.ipynb\n",
    "\n",
    "# Introduction\n",
    "# This notebook handles loading the dataset, performing initial checks, and displaying basic statistics and sample images\n",
    "\n",
    "# Importing Libraries\n",
    "import numpy as np\n",
    "import pandas as pd\n",
    "import matplotlib.pyplot as plt\n",
    "from PIL import Image\n",
    "\n",
    "# Loading the Dataset\n",
    "# Assuming the dataset is in a directory named 'data'\n",
    "data_path = 'data/knee_oa_images/'\n",
    "image_files = os.listdir(data_path)\n",
    "\n",
    "# Basic Dataset Statistics\n",
    "print(f\"Total number of images: {len(image_files)}\")\n",
    "\n",
    "# Visualizing Sample Images\n",
    "fig, axes = plt.subplots(2, 5, figsize=(15, 6))\n",
    "for i, ax in enumerate(axes.flatten()):\n",
    "    img = Image.open(os.path.join(data_path, image_files[i]))\n",
    "    ax.imshow(img, cmap='gray')\n",
    "    ax.axis('off')\n",
    "plt.tight_layout()\n",
    "plt.show()"
   ]
  }
 ],
 "metadata": {
  "language_info": {
   "name": "python"
  }
 },
 "nbformat": 4,
 "nbformat_minor": 2
}
