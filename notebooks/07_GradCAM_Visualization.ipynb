{
 "cells": [
  {
   "cell_type": "code",
   "execution_count": null,
   "metadata": {},
   "outputs": [],
   "source": [
    "# 07_GradCAM_Visualization.ipynb\n",
    "\n",
    "# Introduction\n",
    "# This notebook will implement Grad-CAM to visualize the regions of the image that the CNN models focus on for making predictions\n",
    "\n",
    "# Importing Libraries\n",
    "import numpy as np\n",
    "import tensorflow as tf\n",
    "import matplotlib.pyplot as plt\n",
    "import cv2\n",
    "\n",
    "# Implementing Grad-CAM\n",
    "def make_gradcam_heatmap(img_array, model, last_conv_layer_name, pred_index=None):\n",
    "    grad_model = tf.keras.models.Model(\n",
    "        [model.inputs], [model.get_layer(last_conv_layer_name).output, model.output]\n",
    "    )\n",
    "    with tf.GradientTape() as tape:\n",
    "        last_conv_layer_output, preds = grad_model(img_array)\n",
    "        if pred_index is None:\n",
    "            pred_index = tf.argmax(preds[0])\n",
    "        class_channel = preds[:, pred_index]\n",
    "    grads = tape.gradient(class_channel, last_conv_layer_output)\n",
    "    pooled_grads = tf.reduce_mean(grads, axis=(0, 1, 2))\n",
    "    last_conv_layer_output = last_conv_layer_output[0]\n",
    "    heatmap = last_conv_layer_output @ pooled_grads[..., tf.newaxis]\n",
    "    heatmap = tf.squeeze(heatmap)\n",
    "    heatmap = tf.maximum(heatmap, 0) / tf.math.reduce_max(heatmap)\n",
    "    return heatmap.numpy()\n",
    "\n",
    "# Visualizing Activation Maps\n",
    "img_array = np.expand_dims(preprocess_input(load_img('path_to_image', target_size=(128, 128))), axis=0)\n",
    "heatmap = make_gradcam_heatmap(img_array, cnn_model, 'conv_7b_ac')\n",
    "plt.matshow(heatmap)\n",
    "plt.show()\n",
    "\n",
    "# Interpreting the Results\n",
    "# Overlaying heatmaps on images\n",
    "def overlay_heatmap(heatmap, img, alpha=0.4, colormap=cv2.COLORMAP_JET):\n",
    "    heatmap = cv2.applyColorMap(np.uint8(255 * heatmap), colormap)\n",
    "    heatmap = cv2.cvtColor(heatmap, cv2.COLOR_BGR2RGB)\n",
    "    output = cv2.addWeighted(img, alpha, heatmap, 1 - alpha, 0)\n",
    "    return output"
   ]
  }
 ],
 "metadata": {
  "language_info": {
   "name": "python"
  }
 },
 "nbformat": 4,
 "nbformat_minor": 2
}
