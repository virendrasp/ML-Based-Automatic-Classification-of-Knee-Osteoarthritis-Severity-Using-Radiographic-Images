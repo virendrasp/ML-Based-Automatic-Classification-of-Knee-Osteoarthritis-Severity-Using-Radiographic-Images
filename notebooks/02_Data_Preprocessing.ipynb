{
 "cells": [
  {
   "cell_type": "code",
   "execution_count": null,
   "metadata": {},
   "outputs": [],
   "source": [
    "# 02_Data_Preprocessing.ipynb\n",
    "\n",
    "# Introduction\n",
    "# This notebook will preprocess the data, including normalization, resizing images, and augmenting the data\n",
    "\n",
    "# Importing Libraries\n",
    "import os\n",
    "import numpy as np\n",
    "from tensorflow.keras.preprocessing.image import ImageDataGenerator, load_img, img_to_array\n",
    "\n",
    "# Data Normalization\n",
    "# Normalizing pixel values to the range [0, 1]\n",
    "def normalize_image(img):\n",
    "    return img / 255.0\n",
    "\n",
    "# Image Resizing\n",
    "target_size = (128, 128)\n",
    "def resize_image(img, target_size):\n",
    "    return img.resize(target_size)\n",
    "\n",
    "# Data Augmentation\n",
    "datagen = ImageDataGenerator(\n",
    "    rotation_range=20,\n",
    "    width_shift_range=0.2,\n",
    "    height_shift_range=0.2,\n",
    "    shear_range=0.2,\n",
    "    zoom_range=0.2,\n",
    "    horizontal_flip=True,\n",
    "    fill_mode='nearest'\n",
    ")"
   ]
  }
 ],
 "metadata": {
  "language_info": {
   "name": "python"
  }
 },
 "nbformat": 4,
 "nbformat_minor": 2
}
