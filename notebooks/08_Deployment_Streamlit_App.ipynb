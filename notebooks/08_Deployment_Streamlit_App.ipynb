{
 "cells": [
  {
   "cell_type": "code",
   "execution_count": null,
   "metadata": {},
   "outputs": [],
   "source": [
    "# 08_Deployment_Streamlit_App.ipynb\n",
    "\n",
    "# Introduction\n",
    "# This notebook will develop and demonstrate a Streamlit application for deploying the knee osteoarthritis detection system\n",
    "\n",
    "# Importing Libraries\n",
    "import streamlit as st\n",
    "import numpy as np\n",
    "import tensorflow as tf\n",
    "from PIL import Image\n",
    "\n",
    "# Streamlit App Layout\n",
    "st.title(\"Knee Osteoarthritis Severity Detection\")\n",
    "st.write(\"Upload an X-ray image of a knee joint to predict the severity of osteoarthritis.\")\n",
    "\n",
    "# Integrating Model Predictions\n",
    "model = tf.keras.models.load_model('models/cnn_model.h5')\n",
    "uploaded_file = st.file_uploader(\"Choose an X-ray image...\", type=\"jpg\")\n",
    "if uploaded_file is not None:\n",
    "    image = Image.open(uploaded_file)\n",
    "    st.image(image, caption='Uploaded Image.', use_column_width=True)\n",
    "    img_array = np.expand_dims(preprocess_input(image), axis=0)\n",
    "    prediction = model.predict(img_array)\n",
    "    st.write(f\"Predicted Severity: {np.argmax(prediction)}\")\n",
    "\n",
    "# Running the Streamlit App\n",
    "if __name__ == \"__main__\":\n",
    "    st.run()"
   ]
  }
 ],
 "metadata": {
  "language_info": {
   "name": "python"
  }
 },
 "nbformat": 4,
 "nbformat_minor": 2
}
